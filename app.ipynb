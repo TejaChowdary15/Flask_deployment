{
 "cells": [
  {
   "cell_type": "code",
   "execution_count": null,
   "id": "ac0c472c-e2dc-4a7b-b13c-d0c0e3b2e81f",
   "metadata": {},
   "outputs": [],
   "source": [
    "#app.py\n",
    "from flask import Flask,render_template,request\n",
    "import joblib\n",
    "import numpy as np\n",
    "\n",
    "#Initialize Flask app\n",
    "app=Flask(__name__)\n",
    "\n",
    "#Load trained model\n",
    "model=joblib.load('iris_model.pkl')\n",
    "\n",
    "@app.route('/')\n",
    "def home():\n",
    "    return render_template('home.html')\n",
    "@app.rout('/predict',methods=['POST'])\n",
    "def predict():\n",
    "    #Get data from form\n",
    "    try:\n",
    "        features=[float(request.form[f'feature{i}']) for i in range(1,5)]\n",
    "    except ValueError:\n",
    "        return render_template('result.html',prediction=\"Invalid input.Please enter numeric values.\")\n",
    "    #make predictions\n",
    "    prediction=model.predict([features])[0]\n",
    "\n",
    "    #map prediction to class name\n",
    "    class_names=['Setosa','Versicolor','Virginica']\n",
    "    result=class_names[prediction]\n",
    "\n",
    "    return render_template('result.html',prediction=result)\n",
    "\n",
    "if __name__=='__main__':\n",
    "    app.run(debug=True)"
   ]
  },
  {
   "cell_type": "code",
   "execution_count": null,
   "id": "d740642e-d93a-4325-a0e9-919f82c7c9c8",
   "metadata": {},
   "outputs": [],
   "source": []
  }
 ],
 "metadata": {
  "kernelspec": {
   "display_name": "Python [conda env:base] *",
   "language": "python",
   "name": "conda-base-py"
  },
  "language_info": {
   "codemirror_mode": {
    "name": "ipython",
    "version": 3
   },
   "file_extension": ".py",
   "mimetype": "text/x-python",
   "name": "python",
   "nbconvert_exporter": "python",
   "pygments_lexer": "ipython3",
   "version": "3.11.5"
  }
 },
 "nbformat": 4,
 "nbformat_minor": 5
}
